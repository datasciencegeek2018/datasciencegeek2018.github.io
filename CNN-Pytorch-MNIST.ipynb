{
 "cells": [
  {
   "cell_type": "markdown",
   "metadata": {},
   "source": [
    "## A Convolutional Neural Network in *Pytorch*\n",
    "\n",
    "### Pytorch is awesome for deep learning for several reasons\n",
    "* It is Python based and at its core is essentially Python\n",
    "* Enables GPU accelerated tensor computations\n",
    "* Provides a rich API for neural networks\n",
    "* Computational graphs are dynamic, not static \n",
    "* Automatic differentiation\n",
    "* Moving between CPU and GPU based environments is very easy\n",
    "\n",
    "### We will be using the MNIST digit dataset in this example\n",
    "[MNIST](http;//yann.lecun.com/exdb/mnist/)\n",
    "\n",
    "#### First step is to import the requisite torch and other libraries"
   ]
  },
  {
   "cell_type": "code",
   "execution_count": 94,
   "metadata": {},
   "outputs": [],
   "source": [
    "import torch\n",
    "import torch.nn as nn\n",
    "import torchvision.transforms as transforms\n",
    "import torchvision.datasets as dsets\n",
    "import numpy as np\n",
    "import matplotlib.pyplot as plt\n",
    "%matplotlib inline"
   ]
  },
  {
   "cell_type": "markdown",
   "metadata": {},
   "source": [
    "#### Next step is to create the training and test datasets from the MNIST dataset which is available to Pytorch"
   ]
  },
  {
   "cell_type": "code",
   "execution_count": 95,
   "metadata": {},
   "outputs": [
    {
     "name": "stdout",
     "output_type": "stream",
     "text": [
      "Downloading http://yann.lecun.com/exdb/mnist/train-images-idx3-ubyte.gz\n",
      "Downloading http://yann.lecun.com/exdb/mnist/train-labels-idx1-ubyte.gz\n",
      "Downloading http://yann.lecun.com/exdb/mnist/t10k-images-idx3-ubyte.gz\n",
      "Downloading http://yann.lecun.com/exdb/mnist/t10k-labels-idx1-ubyte.gz\n",
      "Processing...\n",
      "Done!\n"
     ]
    }
   ],
   "source": [
    "train_dataset=dsets.MNIST(root='./data', train=True, transform=transforms.ToTensor(), download=True)\n",
    "test_dataset=dsets.MNIST(root='./data', train=False, transform=transforms.ToTensor())"
   ]
  },
  {
   "cell_type": "code",
   "execution_count": 96,
   "metadata": {},
   "outputs": [
    {
     "name": "stdout",
     "output_type": "stream",
     "text": [
      "60000\n",
      "10000\n"
     ]
    }
   ],
   "source": [
    "# number of images in train and test data sets\n",
    "print(len(train_dataset))\n",
    "print(len(test_dataset))"
   ]
  },
  {
   "cell_type": "code",
   "execution_count": 97,
   "metadata": {},
   "outputs": [
    {
     "data": {
      "text/plain": [
       "{0, 1, 2, 3, 4, 5, 6, 7, 8, 9}"
      ]
     },
     "execution_count": 97,
     "metadata": {},
     "output_type": "execute_result"
    }
   ],
   "source": [
    "# determine the image labels in dataset -- each image is classified into 10 categories\n",
    "unique_labels=set()\n",
    "for i in range(len(train_dataset)):\n",
    "    unique_labels.add(train_dataset[i][1].numpy().tolist())\n",
    "unique_labels"
   ]
  },
  {
   "cell_type": "code",
   "execution_count": 98,
   "metadata": {},
   "outputs": [
    {
     "data": {
      "text/plain": [
       "(1, 28, 28)"
      ]
     },
     "execution_count": 98,
     "metadata": {},
     "output_type": "execute_result"
    }
   ],
   "source": [
    "# look at some of the images\n",
    "# check size of image\n",
    "train_dataset[0][0].numpy().shape"
   ]
  },
  {
   "cell_type": "code",
   "execution_count": 99,
   "metadata": {},
   "outputs": [
    {
     "data": {
      "image/png": "[encoded data removed]",
      "text/plain": [
       "<matplotlib.figure.Figure at 0x1f5b214e518>"
      ]
     },
     "metadata": {},
     "output_type": "display_data"
    }
   ],
   "source": [
    "# review 20 images\n",
    "fig=plt.figure(figsize=(8,8))\n",
    "for i in range(1,21):\n",
    "    image_num = np.random.randint(len(train_dataset))\n",
    "    image = train_dataset[image_num][0][0,:,:]\n",
    "    fig.add_subplot(5, 4, i)\n",
    "    plt.axis('off')\n",
    "    plt.imshow(image, cmap='gray')"
   ]
  },
  {
   "cell_type": "markdown",
   "metadata": {},
   "source": [
    "#### Now we are going to define various parameters of the training e.g batch size which is used to define the data loader iterable, the\n",
    "\n",
    "#### number of epochs (which also simultaneously determines the number of iterations. So e.g. if we have a 1000 observations in \n",
    "\n",
    "#### the training dataset, a batch size of 100 and 10 epochs then the total number of iterations would be 10*(1000/100) = 100"
   ]
  },
  {
   "cell_type": "code",
   "execution_count": 101,
   "metadata": {},
   "outputs": [
    {
     "data": {
      "text/plain": [
       "10"
      ]
     },
     "execution_count": 101,
     "metadata": {},
     "output_type": "execute_result"
    }
   ],
   "source": [
    "batch_size=100\n",
    "n_iters=6000\n",
    "num_epochs=n_iters/(len(train_dataset)/batch_size)\n",
    "num_epochs=int(num_epochs)\n",
    "num_epochs"
   ]
  },
  {
   "cell_type": "markdown",
   "metadata": {},
   "source": [
    "### Now we create an iterable out of the datasets so that we can perform training a batch at a time. Note that\n",
    "* For training dataset, shuffle is set to True so that dataset is shuffled at the beginning of every epoch\n",
    "* Do not need to do above for test dataset since we just apply model to that in single epoch"
   ]
  },
  {
   "cell_type": "code",
   "execution_count": 103,
   "metadata": {},
   "outputs": [],
   "source": [
    "train_loader=torch.utils.data.DataLoader(dataset=train_dataset, batch_size=batch_size, shuffle=True)\n",
    "test_loader=torch.utils.data.DataLoader(dataset=test_dataset, batch_size=batch_size, shuffle=False)"
   ]
  },
  {
   "cell_type": "markdown",
   "metadata": {},
   "source": [
    "### Now we create the model class in Pytorch. For this particular example we will use\n",
    "* 2 convolutional layers, one with 16 filters and the other with 32 filters\n",
    "    * kernel/filter size is 5x5\n",
    "    * stride of 1\n",
    "    * padding of 2 to ensure same output size (kernel-1)/2\n",
    "* ReLU non-linearity\n",
    "* Max pooling with a kernel of 2x2\n",
    "* One fully connected hidden layer with an output of 150\n",
    "    * followed by ReLU non linearity\n",
    "* fully connected linear layer with an output of 10 (since 10 digits)"
   ]
  },
  {
   "cell_type": "code",
   "execution_count": 104,
   "metadata": {},
   "outputs": [],
   "source": [
    "class CNNModel(nn.Module):\n",
    "    def __init__(self):\n",
    "        super(CNNModel, self).__init__()\n",
    "        # in channels =1 because RGB, out channels upto us but if we use 16 kernels we will get 16 out channels\n",
    "        self.cnn1=nn.Conv2d(in_channels=1, out_channels=16, kernel_size=5, stride=1, padding=2)\n",
    "        # non linearity\n",
    "        self.relu1=nn.ReLU()\n",
    "        # maxpooling layer\n",
    "        self.maxpool1=nn.MaxPool2d(kernel_size=2)\n",
    "        \n",
    "        self.cnn2=nn.Conv2d(in_channels=16, out_channels=32, kernel_size=5, stride=1, padding=2)\n",
    "        self.relu2=nn.ReLU()\n",
    "        self.maxpool2=nn.MaxPool2d(kernel_size=2)\n",
    "        \n",
    "        self.fc1=nn.Linear(in_features=32*7*7, out_features=150)\n",
    "        self.relu3=nn.ReLU()\n",
    "        \n",
    "        self.fc2=nn.Linear(in_features=150, out_features=10)\n",
    "        \n",
    "    def forward(self, x):\n",
    "        out=self.cnn1(x)\n",
    "        out=self.relu1(out)\n",
    "        out=self.maxpool1(out)\n",
    "        out=self.cnn2(out)\n",
    "        out=self.relu2(out)\n",
    "        out=self.maxpool2(out)\n",
    "        # below line of code does flattening for input into fully connected layers\n",
    "        out=out.view(out.size(0),-1)\n",
    "        out=self.fc1(out)\n",
    "        out=self.relu3(out)\n",
    "        out=self.fc2(out)\n",
    "        return out\n"
   ]
  },
  {
   "cell_type": "markdown",
   "metadata": {},
   "source": [
    "#### Instantiate the model class and print out the parameters and layers (architecture)"
   ]
  },
  {
   "cell_type": "code",
   "execution_count": 105,
   "metadata": {},
   "outputs": [
    {
     "name": "stdout",
     "output_type": "stream",
     "text": [
      "<generator object Module.parameters at 0x000001F5B1D82BA0>\n",
      "8\n",
      "torch.Size([16, 1, 5, 5])\n",
      "torch.Size([16])\n",
      "torch.Size([32, 16, 5, 5])\n",
      "torch.Size([32])\n",
      "torch.Size([150, 1568])\n",
      "torch.Size([150])\n",
      "torch.Size([10, 150])\n",
      "torch.Size([10])\n",
      "CNNModel(\n",
      "  (cnn1): Conv2d(1, 16, kernel_size=(5, 5), stride=(1, 1), padding=(2, 2))\n",
      "  (relu1): ReLU()\n",
      "  (maxpool1): MaxPool2d(kernel_size=2, stride=2, padding=0, dilation=1, ceil_mode=False)\n",
      "  (cnn2): Conv2d(16, 32, kernel_size=(5, 5), stride=(1, 1), padding=(2, 2))\n",
      "  (relu2): ReLU()\n",
      "  (maxpool2): MaxPool2d(kernel_size=2, stride=2, padding=0, dilation=1, ceil_mode=False)\n",
      "  (fc1): Linear(in_features=1568, out_features=150, bias=True)\n",
      "  (relu3): ReLU()\n",
      "  (fc2): Linear(in_features=150, out_features=10, bias=True)\n",
      ")\n"
     ]
    }
   ],
   "source": [
    "model=CNNModel()\n",
    "\n",
    "print(model.parameters())\n",
    "print(len(list(model.parameters())))\n",
    "for i in range(len(list(model.parameters()))):\n",
    "    print(list(model.parameters())[i].size())\n",
    "    \n",
    "print(model)"
   ]
  },
  {
   "cell_type": "markdown",
   "metadata": {},
   "source": [
    "#### Set loss criterion, learning rate and instantiate optimizer\n",
    "* Cross Entropy Loss criterion for classification\n",
    "* Start with LR=1e-3\n",
    "* SGD optimizer -- stochastic gradient descent"
   ]
  },
  {
   "cell_type": "code",
   "execution_count": 106,
   "metadata": {},
   "outputs": [],
   "source": [
    "criterion=nn.CrossEntropyLoss()\n",
    "\n",
    "learning_rate=0.01\n",
    "\n",
    "optimizer=torch.optim.SGD(model.parameters(), lr=learning_rate)"
   ]
  },
  {
   "cell_type": "markdown",
   "metadata": {},
   "source": [
    "### Train the model and compute accuracy metrics every 600 iterations"
   ]
  },
  {
   "cell_type": "code",
   "execution_count": 107,
   "metadata": {},
   "outputs": [
    {
     "name": "stdout",
     "output_type": "stream",
     "text": [
      "Iteration # 600, Loss is 0.49180468916893005, Accuracy of 87.1\n",
      "Iteration # 1200, Loss is 0.2298184186220169, Accuracy of 92.3\n",
      "Iteration # 1800, Loss is 0.1684103012084961, Accuracy of 94.0\n",
      "Iteration # 2400, Loss is 0.2093038409948349, Accuracy of 95.4\n",
      "Iteration # 3000, Loss is 0.09356354922056198, Accuracy of 95.99\n",
      "Iteration # 3600, Loss is 0.13440671563148499, Accuracy of 96.78\n",
      "Iteration # 4200, Loss is 0.14215579628944397, Accuracy of 96.63\n",
      "Iteration # 4800, Loss is 0.0869639664888382, Accuracy of 97.43\n",
      "Iteration # 5400, Loss is 0.12234852463006973, Accuracy of 97.6\n",
      "Iteration # 6000, Loss is 0.0459846630692482, Accuracy of 97.74\n"
     ]
    }
   ],
   "source": [
    "# training\n",
    "iter=0\n",
    "for epoch in range(num_epochs):\n",
    "    for i, (images,labels) in enumerate(train_loader):\n",
    "        # clear gradients\n",
    "        optimizer.zero_grad()\n",
    "        # forward pass\n",
    "        outputs=model(images)\n",
    "        # calculate loss--this will do softmax and cross entropy\n",
    "        loss=criterion(outputs, labels)\n",
    "        # get gradients\n",
    "        loss.backward()\n",
    "        # update parameters\n",
    "        optimizer.step()\n",
    "        \n",
    "        # keep track of iterations\n",
    "        iter+=1\n",
    "        \n",
    "        #calculate accuracy every 600 iterations\n",
    "        if iter%600 == 0:\n",
    "            correct=0\n",
    "            total=0\n",
    "            # iterate through test dataset\n",
    "            for images, labels in test_loader:\n",
    "                outputs=model(images)\n",
    "                # get predictions\n",
    "                # torch.max(outputs, 1) will return two elements, first the value and second the index of the row max\n",
    "                _, predicted=torch.max(outputs,1)\n",
    "                total+=labels.size(0)\n",
    "                correct+=(predicted==labels).sum()\n",
    "            accuracy=100*correct.double()/total\n",
    "         \n",
    "            print(f'Iteration # {iter}, Loss is {loss.data}, Accuracy of {accuracy}')"
   ]
  },
  {
   "cell_type": "code",
   "execution_count": null,
   "metadata": {},
   "outputs": [],
   "source": []
  }
 ],
 "metadata": {
  "kernelspec": {
   "display_name": "Python 3",
   "language": "python",
   "name": "python3"
  },
  "language_info": {
   "codemirror_mode": {
    "name": "ipython",
    "version": 3
   },
   "file_extension": ".py",
   "mimetype": "text/x-python",
   "name": "python",
   "nbconvert_exporter": "python",
   "pygments_lexer": "ipython3",
   "version": "3.6.4"
  }
 },
 "nbformat": 4,
 "nbformat_minor": 2
}

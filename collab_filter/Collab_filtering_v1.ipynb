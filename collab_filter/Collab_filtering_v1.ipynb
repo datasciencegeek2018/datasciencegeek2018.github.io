{
 "cells": [
  {
   "cell_type": "markdown",
   "metadata": {},
   "source": [
    "# Feature engineering and exploration"
   ]
  },
  {
   "cell_type": "code",
   "execution_count": 1,
   "metadata": {},
   "outputs": [],
   "source": [
    "import numpy as np\n",
    "import pandas as pd\n",
    "import datetime\n",
    "import math\n",
    "import gc"
   ]
  },
  {
   "cell_type": "code",
   "execution_count": 2,
   "metadata": {},
   "outputs": [],
   "source": [
    "path='c:/users/datas/collab_filter/collab/'"
   ]
  },
  {
   "cell_type": "code",
   "execution_count": 3,
   "metadata": {},
   "outputs": [],
   "source": [
    "train = pd.read_csv(path + 'train.csv')"
   ]
  },
  {
   "cell_type": "code",
   "execution_count": 49,
   "metadata": {},
   "outputs": [],
   "source": [
    "??pd.read_csv"
   ]
  },
  {
   "cell_type": "code",
   "execution_count": 4,
   "metadata": {},
   "outputs": [
    {
     "data": {
      "text/plain": [
       "msno                  object\n",
       "song_id               object\n",
       "source_system_tab     object\n",
       "source_screen_name    object\n",
       "source_type           object\n",
       "target                 int64\n",
       "dtype: object"
      ]
     },
     "execution_count": 4,
     "metadata": {},
     "output_type": "execute_result"
    }
   ],
   "source": [
    "train.dtypes"
   ]
  },
  {
   "cell_type": "code",
   "execution_count": 5,
   "metadata": {},
   "outputs": [
    {
     "data": {
      "text/plain": [
       "id                     int64\n",
       "msno                  object\n",
       "song_id               object\n",
       "source_system_tab     object\n",
       "source_screen_name    object\n",
       "source_type           object\n",
       "dtype: object"
      ]
     },
     "execution_count": 5,
     "metadata": {},
     "output_type": "execute_result"
    }
   ],
   "source": [
    "test = pd.read_csv(path + 'test.csv')\n",
    "test.dtypes"
   ]
  },
  {
   "cell_type": "code",
   "execution_count": 6,
   "metadata": {},
   "outputs": [
    {
     "data": {
      "text/plain": [
       "song_id         object\n",
       "song_length      int64\n",
       "genre_ids       object\n",
       "artist_name     object\n",
       "composer        object\n",
       "lyricist        object\n",
       "language       float64\n",
       "dtype: object"
      ]
     },
     "execution_count": 6,
     "metadata": {},
     "output_type": "execute_result"
    }
   ],
   "source": [
    "songs = pd.read_csv(path + 'songs.csv')\n",
    "songs.dtypes"
   ]
  },
  {
   "cell_type": "code",
   "execution_count": 8,
   "metadata": {},
   "outputs": [],
   "source": [
    "songs.language=songs.language.astype('object')"
   ]
  },
  {
   "cell_type": "code",
   "execution_count": 9,
   "metadata": {},
   "outputs": [
    {
     "data": {
      "text/plain": [
       "song_id        object\n",
       "song_length     int64\n",
       "genre_ids      object\n",
       "artist_name    object\n",
       "composer       object\n",
       "lyricist       object\n",
       "language       object\n",
       "dtype: object"
      ]
     },
     "execution_count": 9,
     "metadata": {},
     "output_type": "execute_result"
    }
   ],
   "source": [
    "songs.dtypes"
   ]
  },
  {
   "cell_type": "code",
   "execution_count": 10,
   "metadata": {},
   "outputs": [
    {
     "data": {
      "text/plain": [
       "msno                              object\n",
       "city                               int64\n",
       "bd                                 int64\n",
       "gender                            object\n",
       "registered_via                     int64\n",
       "registration_init_time    datetime64[ns]\n",
       "expiration_date           datetime64[ns]\n",
       "dtype: object"
      ]
     },
     "execution_count": 10,
     "metadata": {},
     "output_type": "execute_result"
    }
   ],
   "source": [
    "members = pd.read_csv(path + 'members.csv', parse_dates=['registration_init_time','expiration_date'])\n",
    "members.dtypes"
   ]
  },
  {
   "cell_type": "code",
   "execution_count": 12,
   "metadata": {},
   "outputs": [
    {
     "data": {
      "text/plain": [
       "song_id    object\n",
       "name       object\n",
       "isrc       object\n",
       "dtype: object"
      ]
     },
     "execution_count": 12,
     "metadata": {},
     "output_type": "execute_result"
    }
   ],
   "source": [
    "songs_extra=pd.read_csv(path + 'song_extra_info.csv')\n",
    "songs_extra.dtypes"
   ]
  },
  {
   "cell_type": "code",
   "execution_count": 13,
   "metadata": {},
   "outputs": [],
   "source": [
    "train = train.merge(songs, on='song_id', how='left')\n",
    "test = test.merge(songs, on='song_id', how='left')"
   ]
  },
  {
   "cell_type": "code",
   "execution_count": 14,
   "metadata": {},
   "outputs": [],
   "source": [
    "members['membership_days'] = members['expiration_date'].subtract(members['registration_init_time']).dt.days.astype(int)\n",
    "\n",
    "members['registration_year'] = members['registration_init_time'].dt.year\n",
    "members['registration_month'] = members['registration_init_time'].dt.month\n",
    "members['registration_date'] = members['registration_init_time'].dt.day\n",
    "\n",
    "members['expiration_year'] = members['expiration_date'].dt.year\n",
    "members['expiration_month'] = members['expiration_date'].dt.month\n",
    "members['expiration_date'] = members['expiration_date'].dt.day\n",
    "members = members.drop(['registration_init_time'], axis=1)"
   ]
  },
  {
   "cell_type": "code",
   "execution_count": 15,
   "metadata": {},
   "outputs": [],
   "source": [
    "def isrc_to_year(isrc):\n",
    "    if type(isrc) == str:\n",
    "        if int(isrc[5:7]) > 17:\n",
    "            return 1900 + int(isrc[5:7])\n",
    "        else:\n",
    "            return 2000 + int(isrc[5:7])\n",
    "    else:\n",
    "        return np.nan"
   ]
  },
  {
   "cell_type": "code",
   "execution_count": 16,
   "metadata": {},
   "outputs": [],
   "source": [
    "songs_extra['song_year'] = songs_extra['isrc'].apply(isrc_to_year)\n",
    "songs_extra.drop(['isrc', 'name'], axis = 1, inplace = True)"
   ]
  },
  {
   "cell_type": "code",
   "execution_count": 17,
   "metadata": {},
   "outputs": [],
   "source": [
    "train = train.merge(members, on='msno', how='left')\n",
    "test = test.merge(members, on='msno', how='left')"
   ]
  },
  {
   "cell_type": "code",
   "execution_count": 18,
   "metadata": {},
   "outputs": [],
   "source": [
    "train = train.merge(songs_extra, on = 'song_id', how = 'left')\n",
    "train.song_length.fillna(200000,inplace=True)\n",
    "#train.song_length = train.song_length.astype(np.uint32)\n",
    "#train.song_id = train.song_id.astype('category')\n",
    "\n",
    "\n",
    "test = test.merge(songs_extra, on = 'song_id', how = 'left')\n",
    "test.song_length.fillna(200000,inplace=True)\n",
    "#test.song_length = test.song_length.astype(np.uint32)\n",
    "#test.song_id = test.song_id.astype('category')"
   ]
  },
  {
   "cell_type": "code",
   "execution_count": 19,
   "metadata": {},
   "outputs": [
    {
     "data": {
      "text/plain": [
       "msno                   object\n",
       "song_id                object\n",
       "source_system_tab      object\n",
       "source_screen_name     object\n",
       "source_type            object\n",
       "target                  int64\n",
       "song_length           float64\n",
       "genre_ids              object\n",
       "artist_name            object\n",
       "composer               object\n",
       "lyricist               object\n",
       "language               object\n",
       "city                    int64\n",
       "bd                      int64\n",
       "gender                 object\n",
       "registered_via          int64\n",
       "expiration_date         int64\n",
       "membership_days         int32\n",
       "registration_year       int64\n",
       "registration_month      int64\n",
       "registration_date       int64\n",
       "expiration_year         int64\n",
       "expiration_month        int64\n",
       "song_year             float64\n",
       "genre_ids_count         int64\n",
       "dtype: object"
      ]
     },
     "execution_count": 19,
     "metadata": {},
     "output_type": "execute_result"
    }
   ],
   "source": [
    "def genre_id_count(x):\n",
    "    if x == 'no_genre_id':\n",
    "        return 0\n",
    "    else:\n",
    "        return x.count('|') + 1\n",
    "\n",
    "train['genre_ids'].fillna('no_genre_id',inplace=True)\n",
    "test['genre_ids'].fillna('no_genre_id',inplace=True)\n",
    "train['genre_ids_count'] = train['genre_ids'].apply(genre_id_count)\n",
    "test['genre_ids_count'] = test['genre_ids'].apply(genre_id_count)\n",
    "train.dtypes"
   ]
  },
  {
   "cell_type": "code",
   "execution_count": 23,
   "metadata": {},
   "outputs": [
    {
     "data": {
      "text/plain": [
       "0                                                   NaN\n",
       "1                                                   NaN\n",
       "2                                                   NaN\n",
       "3                                                   NaN\n",
       "4                                                   NaN\n",
       "5                                                   NaN\n",
       "6                                        TEDDY| TAEYANG\n",
       "7                                                   NaN\n",
       "8                                                   NaN\n",
       "9                                                   NaN\n",
       "10                                                  NaN\n",
       "11                                                   嚴爵\n",
       "12                                                  林怡鳳\n",
       "13                                                  周杰倫\n",
       "14                                          Lin Yi Feng\n",
       "15                            Ji Hoon/Roco of Rocoberry\n",
       "16                                                  吳汶芳\n",
       "17                                                  NaN\n",
       "18                                          Wang Ya Jun\n",
       "19                                             Xiao Han\n",
       "20                                                  NaN\n",
       "21                                                  李焯雄\n",
       "22                                                  NaN\n",
       "23                                                  NaN\n",
       "24                                                  NaN\n",
       "25                                                  NaN\n",
       "26                                                  NaN\n",
       "27                                                  NaN\n",
       "28                                            Selina+李姚\n",
       "29                                                  韋禮安\n",
       "30                                                  藍小邪\n",
       "31                                                  黃建洲\n",
       "32                                        杜振熙/（OT：白鴿）伍佰\n",
       "33                                                  NaN\n",
       "34                      Arnthor Brigisson| Ina Wroldsen\n",
       "35                                                  NaN\n",
       "36                                                  NaN\n",
       "37                                                  NaN\n",
       "38                                                  王雅君\n",
       "39                                                元平/傅薇\n",
       "40                                                五月天阿信\n",
       "41                                                  孫達布\n",
       "42                                                  NaN\n",
       "43    陳天佑 / Prang| Rene / Quang| Lars / Quang| Nik /...\n",
       "44                                                  薛之謙\n",
       "45                                                  NaN\n",
       "46                                                  方文山\n",
       "47                                                  鄭建浩\n",
       "48                                                   阿信\n",
       "49                                                 逃跑計劃\n",
       "Name: lyricist, dtype: object"
      ]
     },
     "execution_count": 23,
     "metadata": {},
     "output_type": "execute_result"
    }
   ],
   "source": [
    "train.lyricist.head(50)"
   ]
  },
  {
   "cell_type": "code",
   "execution_count": 24,
   "metadata": {},
   "outputs": [],
   "source": [
    "def lyricist_count(x):\n",
    "    if x == 'no_lyricist':\n",
    "        return 0\n",
    "    else:\n",
    "        return sum(map(x.count, ['|', '/', '\\\\', ';'])) + 1"
   ]
  },
  {
   "cell_type": "code",
   "execution_count": 25,
   "metadata": {},
   "outputs": [],
   "source": [
    "train['lyricist'].fillna('no_lyricist',inplace=True)\n",
    "test['lyricist'].fillna('no_lyricist',inplace=True)\n",
    "train['lyricists_count'] = train['lyricist'].apply(lyricist_count)\n",
    "test['lyricists_count'] = test['lyricist'].apply(lyricist_count)"
   ]
  },
  {
   "cell_type": "code",
   "execution_count": 26,
   "metadata": {},
   "outputs": [],
   "source": [
    "def composer_count(x):\n",
    "    if x == 'no_composer':\n",
    "        return 0\n",
    "    else:\n",
    "        return sum(map(x.count, ['|', '/', '\\\\', ';'])) + 1\n",
    "\n",
    "train['composer'].fillna('no_composer',inplace=True)\n",
    "test['composer'].fillna('no_composer',inplace=True)\n",
    "train['composer_count'] = train['composer'].apply(composer_count)\n",
    "test['composer_count'] = test['composer'].apply(composer_count)"
   ]
  },
  {
   "cell_type": "code",
   "execution_count": 27,
   "metadata": {},
   "outputs": [],
   "source": [
    "def is_featured(x):\n",
    "    if 'feat' in str(x) :\n",
    "        return 1\n",
    "    return 0\n",
    "\n",
    "train['artist_name'].fillna('no_artist',inplace=True)\n",
    "test['artist_name'].fillna('no_artist',inplace=True)\n",
    "train['is_featured'] = train['artist_name'].apply(is_featured)\n",
    "test['is_featured'] = test['artist_name'].apply(is_featured)"
   ]
  },
  {
   "cell_type": "code",
   "execution_count": 29,
   "metadata": {},
   "outputs": [
    {
     "data": {
      "text/plain": [
       "7377368                             Twins\n",
       "7377369                               薛之謙\n",
       "7377370                               薛之謙\n",
       "7377371                               薛之謙\n",
       "7377372                     Trouble Maker\n",
       "7377373                         G.E.M.鄧紫棋\n",
       "7377374            迪克牛仔 (Dick and Cowboy)\n",
       "7377375                   那對夫妻 (Nico&Kim)\n",
       "7377376                             Heize\n",
       "7377377                  蔡健雅 (Tanya Chua)\n",
       "7377378                         BOX (BOX)\n",
       "7377379                  蔡健雅 (Tanya Chua)\n",
       "7377380                    詹森淮 (Riva Jan)\n",
       "7377381                          Coldplay\n",
       "7377382                          Coldplay\n",
       "7377383                          Coldplay\n",
       "7377384                    熱狗 (MC HotDog)\n",
       "7377385                   Jung Joon Young\n",
       "7377386                  鄭伊健 (Ekin Cheng)\n",
       "7377387                        田馥甄 (Hebe)\n",
       "7377388                   許茹芸 (Valen Hsu)\n",
       "7377389                     孫盛希 (Shi Shi)\n",
       "7377390                          Eric 周興哲\n",
       "7377391              動力火車 (Power Station)\n",
       "7377392                               王識賢\n",
       "7377393                               王識賢\n",
       "7377394                   Various Artists\n",
       "7377395                     聽見下雨的聲音 電影原聲帶\n",
       "7377396                   蘇打綠 (Sodagreen)\n",
       "7377397                   孫燕姿 (Yanzi Sun)\n",
       "7377398                        aMEI (張惠妹)\n",
       "7377399                        aMEI (張惠妹)\n",
       "7377400                        aMEI (張惠妹)\n",
       "7377401                               張震嶽\n",
       "7377402                       MAJOR LAZER\n",
       "7377403                        Kesha|Zedd\n",
       "7377404                            Baauer\n",
       "7377405                   Various Artists\n",
       "7377406                            寶寶水晶音樂\n",
       "7377407                              AMIT\n",
       "7377408                   Various Artists\n",
       "7377409                   Various Artists\n",
       "7377410                          Maroon 5\n",
       "7377411                          Maroon 5\n",
       "7377412                          Maroon 5\n",
       "7377413                           Dr. Dre\n",
       "7377414        R. City feat.  Adam Levine\n",
       "7377415    兄弟本色G.U.T.S. (姚中仁、張震嶽、頑童MJ116)\n",
       "7377416                 Brad Mehldau Trio\n",
       "7377417       Biréli Lagrène| Sylvain Luc\n",
       "Name: artist_name, dtype: object"
      ]
     },
     "execution_count": 29,
     "metadata": {},
     "output_type": "execute_result"
    }
   ],
   "source": [
    "train.artist_name.tail(50)"
   ]
  },
  {
   "cell_type": "code",
   "execution_count": 32,
   "metadata": {},
   "outputs": [],
   "source": [
    "def artist_count(x):\n",
    "    if x == 'no_artist':\n",
    "        return 0\n",
    "    else:\n",
    "        return x.count('and') + x.count(',') + x.count('feat') + x.count('&')+1\n",
    "\n",
    "train['artist_count'] = train['artist_name'].apply(artist_count)\n",
    "test['artist_count'] = test['artist_name'].apply(artist_count)"
   ]
  },
  {
   "cell_type": "code",
   "execution_count": 33,
   "metadata": {},
   "outputs": [
    {
     "data": {
      "text/plain": [
       "1     7171712\n",
       "2      191852\n",
       "3       12790\n",
       "4         398\n",
       "9         335\n",
       "5         136\n",
       "0         114\n",
       "7          47\n",
       "6          26\n",
       "13          5\n",
       "8           3\n",
       "Name: artist_count, dtype: int64"
      ]
     },
     "execution_count": 33,
     "metadata": {},
     "output_type": "execute_result"
    }
   ],
   "source": [
    "train.artist_count.value_counts()"
   ]
  },
  {
   "cell_type": "code",
   "execution_count": 34,
   "metadata": {},
   "outputs": [],
   "source": [
    "train['artist_composer'] = (train['artist_name'] == train['composer']).astype(np.int8)\n",
    "test['artist_composer'] = (test['artist_name'] == test['composer']).astype(np.int8)"
   ]
  },
  {
   "cell_type": "code",
   "execution_count": 35,
   "metadata": {},
   "outputs": [],
   "source": [
    "train['artist_composer_lyricist'] = ((train['artist_name'] == train['composer']) & (train['artist_name'] == train['lyricist']) & (train['composer'] == train['lyricist'])).astype(np.int8)\n",
    "test['artist_composer_lyricist'] = ((test['artist_name'] == test['composer']) & (test['artist_name'] == test['lyricist']) & (test['composer'] == test['lyricist'])).astype(np.int8)"
   ]
  },
  {
   "cell_type": "code",
   "execution_count": 36,
   "metadata": {},
   "outputs": [
    {
     "data": {
      "text/plain": [
       "dtype('O')"
      ]
     },
     "execution_count": 36,
     "metadata": {},
     "output_type": "execute_result"
    }
   ],
   "source": [
    "train.language.dtype"
   ]
  },
  {
   "cell_type": "code",
   "execution_count": 37,
   "metadata": {},
   "outputs": [],
   "source": [
    "def song_lang_boolean(x):\n",
    "    if '17.0' in str(x) or '45.0' in str(x):\n",
    "        return 1\n",
    "    return 0\n",
    "\n",
    "train['song_lang_boolean'] = train['language'].apply(song_lang_boolean).astype(np.int8)\n",
    "test['song_lang_boolean'] = test['language'].apply(song_lang_boolean).astype(np.int8)"
   ]
  },
  {
   "cell_type": "code",
   "execution_count": 38,
   "metadata": {},
   "outputs": [],
   "source": [
    "_mean_song_length = np.mean(train['song_length'])\n",
    "def smaller_song(x):\n",
    "    if x < _mean_song_length:\n",
    "        return 1\n",
    "    return 0\n",
    "\n",
    "train['smaller_song'] = train['song_length'].apply(smaller_song).astype(np.int8)\n",
    "test['smaller_song'] = test['song_length'].apply(smaller_song).astype(np.int8)"
   ]
  },
  {
   "cell_type": "code",
   "execution_count": 39,
   "metadata": {},
   "outputs": [],
   "source": [
    "_dict_count_song_played_train = {k: v for k, v in train['song_id'].value_counts().items()}\n",
    "_dict_count_song_played_test = {k: v for k, v in test['song_id'].value_counts().items()}\n",
    "def count_song_played(x):\n",
    "    try:\n",
    "        return _dict_count_song_played_train[x]\n",
    "    except KeyError:\n",
    "        try:\n",
    "            return _dict_count_song_played_test[x]\n",
    "        except KeyError:\n",
    "            return 0"
   ]
  },
  {
   "cell_type": "code",
   "execution_count": 40,
   "metadata": {},
   "outputs": [],
   "source": [
    "train['count_song_played'] = train['song_id'].apply(count_song_played).astype(np.int64)\n",
    "test['count_song_played'] = test['song_id'].apply(count_song_played).astype(np.int64)"
   ]
  },
  {
   "cell_type": "code",
   "execution_count": 41,
   "metadata": {},
   "outputs": [],
   "source": [
    "_dict_count_artist_played_train = {k: v for k, v in train['artist_name'].value_counts().items()}\n",
    "_dict_count_artist_played_test = {k: v for k, v in test['artist_name'].value_counts().items()}\n",
    "def count_artist_played(x):\n",
    "    try:\n",
    "        return _dict_count_artist_played_train[x]\n",
    "    except KeyError:\n",
    "        try:\n",
    "            return _dict_count_artist_played_test[x]\n",
    "        except KeyError:\n",
    "            return 0\n",
    "\n",
    "train['count_artist_played'] = train['artist_name'].apply(count_artist_played).astype(np.int64)\n",
    "test['count_artist_played'] = test['artist_name'].apply(count_artist_played).astype(np.int64)"
   ]
  },
  {
   "cell_type": "code",
   "execution_count": 42,
   "metadata": {},
   "outputs": [
    {
     "data": {
      "text/plain": [
       "Index(['msno', 'song_id', 'source_system_tab', 'source_screen_name',\n",
       "       'source_type', 'target', 'song_length', 'genre_ids', 'artist_name',\n",
       "       'composer', 'lyricist', 'language', 'city', 'bd', 'gender',\n",
       "       'registered_via', 'expiration_date', 'membership_days',\n",
       "       'registration_year', 'registration_month', 'registration_date',\n",
       "       'expiration_year', 'expiration_month', 'song_year', 'genre_ids_count',\n",
       "       'lyricists_count', 'composer_count', 'is_featured', 'artist_count',\n",
       "       'artist_composer', 'artist_composer_lyricist', 'song_lang_boolean',\n",
       "       'smaller_song', 'count_song_played', 'count_artist_played'],\n",
       "      dtype='object')"
      ]
     },
     "execution_count": 42,
     "metadata": {},
     "output_type": "execute_result"
    }
   ],
   "source": [
    " train.columns"
   ]
  },
  {
   "cell_type": "code",
   "execution_count": 43,
   "metadata": {},
   "outputs": [
    {
     "data": {
      "text/plain": [
       "msno                         object\n",
       "song_id                      object\n",
       "source_system_tab            object\n",
       "source_screen_name           object\n",
       "source_type                  object\n",
       "target                        int64\n",
       "song_length                 float64\n",
       "genre_ids                    object\n",
       "artist_name                  object\n",
       "composer                     object\n",
       "lyricist                     object\n",
       "language                     object\n",
       "city                          int64\n",
       "bd                            int64\n",
       "gender                       object\n",
       "registered_via                int64\n",
       "expiration_date               int64\n",
       "membership_days               int32\n",
       "registration_year             int64\n",
       "registration_month            int64\n",
       "registration_date             int64\n",
       "expiration_year               int64\n",
       "expiration_month              int64\n",
       "song_year                   float64\n",
       "genre_ids_count               int64\n",
       "lyricists_count               int64\n",
       "composer_count                int64\n",
       "is_featured                   int64\n",
       "artist_count                  int64\n",
       "artist_composer                int8\n",
       "artist_composer_lyricist       int8\n",
       "song_lang_boolean              int8\n",
       "smaller_song                   int8\n",
       "count_song_played             int64\n",
       "count_artist_played           int64\n",
       "dtype: object"
      ]
     },
     "execution_count": 43,
     "metadata": {},
     "output_type": "execute_result"
    }
   ],
   "source": [
    "train.dtypes"
   ]
  },
  {
   "cell_type": "code",
   "execution_count": 45,
   "metadata": {},
   "outputs": [
    {
     "data": {
      "text/html": [
       "<div>\n",
       "<style scoped>\n",
       "    .dataframe tbody tr th:only-of-type {\n",
       "        vertical-align: middle;\n",
       "    }\n",
       "\n",
       "    .dataframe tbody tr th {\n",
       "        vertical-align: top;\n",
       "    }\n",
       "\n",
       "    .dataframe thead th {\n",
       "        text-align: right;\n",
       "    }\n",
       "</style>\n",
       "<table border=\"1\" class=\"dataframe\">\n",
       "  <thead>\n",
       "    <tr style=\"text-align: right;\">\n",
       "      <th></th>\n",
       "      <th>0</th>\n",
       "      <th>1</th>\n",
       "      <th>2</th>\n",
       "      <th>3</th>\n",
       "      <th>4</th>\n",
       "    </tr>\n",
       "  </thead>\n",
       "  <tbody>\n",
       "    <tr>\n",
       "      <th>msno</th>\n",
       "      <td>FGtllVqz18RPiwJj/edr2gV78zirAiY/9SmYvia+kCg=</td>\n",
       "      <td>Xumu+NIjS6QYVxDS4/t3SawvJ7viT9hPKXmf0RtLNx8=</td>\n",
       "      <td>Xumu+NIjS6QYVxDS4/t3SawvJ7viT9hPKXmf0RtLNx8=</td>\n",
       "      <td>Xumu+NIjS6QYVxDS4/t3SawvJ7viT9hPKXmf0RtLNx8=</td>\n",
       "      <td>FGtllVqz18RPiwJj/edr2gV78zirAiY/9SmYvia+kCg=</td>\n",
       "    </tr>\n",
       "    <tr>\n",
       "      <th>song_id</th>\n",
       "      <td>BBzumQNXUHKdEBOB7mAJuzok+IJA1c2Ryg/yzTF6tik=</td>\n",
       "      <td>bhp/MpSNoqoxOIB+/l8WPqu6jldth4DIpCm3ayXnJqM=</td>\n",
       "      <td>JNWfrrC7zNN7BdMpsISKa4Mw+xVJYNnxXh3/Epw7QgY=</td>\n",
       "      <td>2A87tzfnJTSWqD7gIZHisolhe4DMdzkbd6LzO1KHjNs=</td>\n",
       "      <td>3qm6XTZ6MOCU11x8FIVbAGH5l5uMkT3/ZalWG1oo2Gc=</td>\n",
       "    </tr>\n",
       "    <tr>\n",
       "      <th>source_system_tab</th>\n",
       "      <td>explore</td>\n",
       "      <td>my library</td>\n",
       "      <td>my library</td>\n",
       "      <td>my library</td>\n",
       "      <td>explore</td>\n",
       "    </tr>\n",
       "    <tr>\n",
       "      <th>source_screen_name</th>\n",
       "      <td>Explore</td>\n",
       "      <td>Local playlist more</td>\n",
       "      <td>Local playlist more</td>\n",
       "      <td>Local playlist more</td>\n",
       "      <td>Explore</td>\n",
       "    </tr>\n",
       "    <tr>\n",
       "      <th>source_type</th>\n",
       "      <td>online-playlist</td>\n",
       "      <td>local-playlist</td>\n",
       "      <td>local-playlist</td>\n",
       "      <td>local-playlist</td>\n",
       "      <td>online-playlist</td>\n",
       "    </tr>\n",
       "    <tr>\n",
       "      <th>target</th>\n",
       "      <td>1</td>\n",
       "      <td>1</td>\n",
       "      <td>1</td>\n",
       "      <td>1</td>\n",
       "      <td>1</td>\n",
       "    </tr>\n",
       "    <tr>\n",
       "      <th>song_length</th>\n",
       "      <td>206471</td>\n",
       "      <td>284584</td>\n",
       "      <td>225396</td>\n",
       "      <td>255512</td>\n",
       "      <td>187802</td>\n",
       "    </tr>\n",
       "    <tr>\n",
       "      <th>genre_ids</th>\n",
       "      <td>359</td>\n",
       "      <td>1259</td>\n",
       "      <td>1259</td>\n",
       "      <td>1019</td>\n",
       "      <td>1011</td>\n",
       "    </tr>\n",
       "    <tr>\n",
       "      <th>artist_name</th>\n",
       "      <td>Bastille</td>\n",
       "      <td>Various Artists</td>\n",
       "      <td>Nas</td>\n",
       "      <td>Soundway</td>\n",
       "      <td>Brett Young</td>\n",
       "    </tr>\n",
       "    <tr>\n",
       "      <th>composer</th>\n",
       "      <td>Dan Smith| Mark Crew</td>\n",
       "      <td>no_composer</td>\n",
       "      <td>N. Jones、W. Adams、J. Lordan、D. Ingle</td>\n",
       "      <td>Kwadwo Donkoh</td>\n",
       "      <td>Brett Young| Kelly Archer| Justin Ebach</td>\n",
       "    </tr>\n",
       "    <tr>\n",
       "      <th>lyricist</th>\n",
       "      <td>no_lyricist</td>\n",
       "      <td>no_lyricist</td>\n",
       "      <td>no_lyricist</td>\n",
       "      <td>no_lyricist</td>\n",
       "      <td>no_lyricist</td>\n",
       "    </tr>\n",
       "    <tr>\n",
       "      <th>language</th>\n",
       "      <td>52</td>\n",
       "      <td>52</td>\n",
       "      <td>52</td>\n",
       "      <td>-1</td>\n",
       "      <td>52</td>\n",
       "    </tr>\n",
       "    <tr>\n",
       "      <th>city</th>\n",
       "      <td>1</td>\n",
       "      <td>13</td>\n",
       "      <td>13</td>\n",
       "      <td>13</td>\n",
       "      <td>1</td>\n",
       "    </tr>\n",
       "    <tr>\n",
       "      <th>bd</th>\n",
       "      <td>0</td>\n",
       "      <td>24</td>\n",
       "      <td>24</td>\n",
       "      <td>24</td>\n",
       "      <td>0</td>\n",
       "    </tr>\n",
       "    <tr>\n",
       "      <th>gender</th>\n",
       "      <td>NaN</td>\n",
       "      <td>female</td>\n",
       "      <td>female</td>\n",
       "      <td>female</td>\n",
       "      <td>NaN</td>\n",
       "    </tr>\n",
       "    <tr>\n",
       "      <th>registered_via</th>\n",
       "      <td>7</td>\n",
       "      <td>9</td>\n",
       "      <td>9</td>\n",
       "      <td>9</td>\n",
       "      <td>7</td>\n",
       "    </tr>\n",
       "    <tr>\n",
       "      <th>expiration_date</th>\n",
       "      <td>5</td>\n",
       "      <td>11</td>\n",
       "      <td>11</td>\n",
       "      <td>11</td>\n",
       "      <td>5</td>\n",
       "    </tr>\n",
       "    <tr>\n",
       "      <th>membership_days</th>\n",
       "      <td>2103</td>\n",
       "      <td>2301</td>\n",
       "      <td>2301</td>\n",
       "      <td>2301</td>\n",
       "      <td>2103</td>\n",
       "    </tr>\n",
       "    <tr>\n",
       "      <th>registration_year</th>\n",
       "      <td>2012</td>\n",
       "      <td>2011</td>\n",
       "      <td>2011</td>\n",
       "      <td>2011</td>\n",
       "      <td>2012</td>\n",
       "    </tr>\n",
       "    <tr>\n",
       "      <th>registration_month</th>\n",
       "      <td>1</td>\n",
       "      <td>5</td>\n",
       "      <td>5</td>\n",
       "      <td>5</td>\n",
       "      <td>1</td>\n",
       "    </tr>\n",
       "    <tr>\n",
       "      <th>registration_date</th>\n",
       "      <td>2</td>\n",
       "      <td>25</td>\n",
       "      <td>25</td>\n",
       "      <td>25</td>\n",
       "      <td>2</td>\n",
       "    </tr>\n",
       "    <tr>\n",
       "      <th>expiration_year</th>\n",
       "      <td>2017</td>\n",
       "      <td>2017</td>\n",
       "      <td>2017</td>\n",
       "      <td>2017</td>\n",
       "      <td>2017</td>\n",
       "    </tr>\n",
       "    <tr>\n",
       "      <th>expiration_month</th>\n",
       "      <td>10</td>\n",
       "      <td>9</td>\n",
       "      <td>9</td>\n",
       "      <td>9</td>\n",
       "      <td>10</td>\n",
       "    </tr>\n",
       "    <tr>\n",
       "      <th>song_year</th>\n",
       "      <td>2016</td>\n",
       "      <td>1999</td>\n",
       "      <td>2006</td>\n",
       "      <td>2010</td>\n",
       "      <td>2016</td>\n",
       "    </tr>\n",
       "    <tr>\n",
       "      <th>genre_ids_count</th>\n",
       "      <td>1</td>\n",
       "      <td>1</td>\n",
       "      <td>1</td>\n",
       "      <td>1</td>\n",
       "      <td>1</td>\n",
       "    </tr>\n",
       "    <tr>\n",
       "      <th>lyricists_count</th>\n",
       "      <td>0</td>\n",
       "      <td>0</td>\n",
       "      <td>0</td>\n",
       "      <td>0</td>\n",
       "      <td>0</td>\n",
       "    </tr>\n",
       "    <tr>\n",
       "      <th>composer_count</th>\n",
       "      <td>2</td>\n",
       "      <td>0</td>\n",
       "      <td>1</td>\n",
       "      <td>1</td>\n",
       "      <td>3</td>\n",
       "    </tr>\n",
       "    <tr>\n",
       "      <th>is_featured</th>\n",
       "      <td>0</td>\n",
       "      <td>0</td>\n",
       "      <td>0</td>\n",
       "      <td>0</td>\n",
       "      <td>0</td>\n",
       "    </tr>\n",
       "    <tr>\n",
       "      <th>artist_count</th>\n",
       "      <td>1</td>\n",
       "      <td>1</td>\n",
       "      <td>1</td>\n",
       "      <td>1</td>\n",
       "      <td>1</td>\n",
       "    </tr>\n",
       "    <tr>\n",
       "      <th>artist_composer</th>\n",
       "      <td>0</td>\n",
       "      <td>0</td>\n",
       "      <td>0</td>\n",
       "      <td>0</td>\n",
       "      <td>0</td>\n",
       "    </tr>\n",
       "    <tr>\n",
       "      <th>artist_composer_lyricist</th>\n",
       "      <td>0</td>\n",
       "      <td>0</td>\n",
       "      <td>0</td>\n",
       "      <td>0</td>\n",
       "      <td>0</td>\n",
       "    </tr>\n",
       "    <tr>\n",
       "      <th>song_lang_boolean</th>\n",
       "      <td>0</td>\n",
       "      <td>0</td>\n",
       "      <td>0</td>\n",
       "      <td>0</td>\n",
       "      <td>0</td>\n",
       "    </tr>\n",
       "    <tr>\n",
       "      <th>smaller_song</th>\n",
       "      <td>1</td>\n",
       "      <td>0</td>\n",
       "      <td>1</td>\n",
       "      <td>0</td>\n",
       "      <td>1</td>\n",
       "    </tr>\n",
       "    <tr>\n",
       "      <th>count_song_played</th>\n",
       "      <td>215</td>\n",
       "      <td>1</td>\n",
       "      <td>4</td>\n",
       "      <td>1</td>\n",
       "      <td>412</td>\n",
       "    </tr>\n",
       "    <tr>\n",
       "      <th>count_artist_played</th>\n",
       "      <td>1140</td>\n",
       "      <td>303616</td>\n",
       "      <td>289</td>\n",
       "      <td>1</td>\n",
       "      <td>427</td>\n",
       "    </tr>\n",
       "  </tbody>\n",
       "</table>\n",
       "</div>"
      ],
      "text/plain": [
       "                                                                     0  \\\n",
       "msno                      FGtllVqz18RPiwJj/edr2gV78zirAiY/9SmYvia+kCg=   \n",
       "song_id                   BBzumQNXUHKdEBOB7mAJuzok+IJA1c2Ryg/yzTF6tik=   \n",
       "source_system_tab                                              explore   \n",
       "source_screen_name                                             Explore   \n",
       "source_type                                            online-playlist   \n",
       "target                                                               1   \n",
       "song_length                                                     206471   \n",
       "genre_ids                                                          359   \n",
       "artist_name                                                   Bastille   \n",
       "composer                                          Dan Smith| Mark Crew   \n",
       "lyricist                                                   no_lyricist   \n",
       "language                                                            52   \n",
       "city                                                                 1   \n",
       "bd                                                                   0   \n",
       "gender                                                             NaN   \n",
       "registered_via                                                       7   \n",
       "expiration_date                                                      5   \n",
       "membership_days                                                   2103   \n",
       "registration_year                                                 2012   \n",
       "registration_month                                                   1   \n",
       "registration_date                                                    2   \n",
       "expiration_year                                                   2017   \n",
       "expiration_month                                                    10   \n",
       "song_year                                                         2016   \n",
       "genre_ids_count                                                      1   \n",
       "lyricists_count                                                      0   \n",
       "composer_count                                                       2   \n",
       "is_featured                                                          0   \n",
       "artist_count                                                         1   \n",
       "artist_composer                                                      0   \n",
       "artist_composer_lyricist                                             0   \n",
       "song_lang_boolean                                                    0   \n",
       "smaller_song                                                         1   \n",
       "count_song_played                                                  215   \n",
       "count_artist_played                                               1140   \n",
       "\n",
       "                                                                     1  \\\n",
       "msno                      Xumu+NIjS6QYVxDS4/t3SawvJ7viT9hPKXmf0RtLNx8=   \n",
       "song_id                   bhp/MpSNoqoxOIB+/l8WPqu6jldth4DIpCm3ayXnJqM=   \n",
       "source_system_tab                                           my library   \n",
       "source_screen_name                                 Local playlist more   \n",
       "source_type                                             local-playlist   \n",
       "target                                                               1   \n",
       "song_length                                                     284584   \n",
       "genre_ids                                                         1259   \n",
       "artist_name                                            Various Artists   \n",
       "composer                                                   no_composer   \n",
       "lyricist                                                   no_lyricist   \n",
       "language                                                            52   \n",
       "city                                                                13   \n",
       "bd                                                                  24   \n",
       "gender                                                          female   \n",
       "registered_via                                                       9   \n",
       "expiration_date                                                     11   \n",
       "membership_days                                                   2301   \n",
       "registration_year                                                 2011   \n",
       "registration_month                                                   5   \n",
       "registration_date                                                   25   \n",
       "expiration_year                                                   2017   \n",
       "expiration_month                                                     9   \n",
       "song_year                                                         1999   \n",
       "genre_ids_count                                                      1   \n",
       "lyricists_count                                                      0   \n",
       "composer_count                                                       0   \n",
       "is_featured                                                          0   \n",
       "artist_count                                                         1   \n",
       "artist_composer                                                      0   \n",
       "artist_composer_lyricist                                             0   \n",
       "song_lang_boolean                                                    0   \n",
       "smaller_song                                                         0   \n",
       "count_song_played                                                    1   \n",
       "count_artist_played                                             303616   \n",
       "\n",
       "                                                                     2  \\\n",
       "msno                      Xumu+NIjS6QYVxDS4/t3SawvJ7viT9hPKXmf0RtLNx8=   \n",
       "song_id                   JNWfrrC7zNN7BdMpsISKa4Mw+xVJYNnxXh3/Epw7QgY=   \n",
       "source_system_tab                                           my library   \n",
       "source_screen_name                                 Local playlist more   \n",
       "source_type                                             local-playlist   \n",
       "target                                                               1   \n",
       "song_length                                                     225396   \n",
       "genre_ids                                                         1259   \n",
       "artist_name                                                        Nas   \n",
       "composer                          N. Jones、W. Adams、J. Lordan、D. Ingle   \n",
       "lyricist                                                   no_lyricist   \n",
       "language                                                            52   \n",
       "city                                                                13   \n",
       "bd                                                                  24   \n",
       "gender                                                          female   \n",
       "registered_via                                                       9   \n",
       "expiration_date                                                     11   \n",
       "membership_days                                                   2301   \n",
       "registration_year                                                 2011   \n",
       "registration_month                                                   5   \n",
       "registration_date                                                   25   \n",
       "expiration_year                                                   2017   \n",
       "expiration_month                                                     9   \n",
       "song_year                                                         2006   \n",
       "genre_ids_count                                                      1   \n",
       "lyricists_count                                                      0   \n",
       "composer_count                                                       1   \n",
       "is_featured                                                          0   \n",
       "artist_count                                                         1   \n",
       "artist_composer                                                      0   \n",
       "artist_composer_lyricist                                             0   \n",
       "song_lang_boolean                                                    0   \n",
       "smaller_song                                                         1   \n",
       "count_song_played                                                    4   \n",
       "count_artist_played                                                289   \n",
       "\n",
       "                                                                     3  \\\n",
       "msno                      Xumu+NIjS6QYVxDS4/t3SawvJ7viT9hPKXmf0RtLNx8=   \n",
       "song_id                   2A87tzfnJTSWqD7gIZHisolhe4DMdzkbd6LzO1KHjNs=   \n",
       "source_system_tab                                           my library   \n",
       "source_screen_name                                 Local playlist more   \n",
       "source_type                                             local-playlist   \n",
       "target                                                               1   \n",
       "song_length                                                     255512   \n",
       "genre_ids                                                         1019   \n",
       "artist_name                                                   Soundway   \n",
       "composer                                                 Kwadwo Donkoh   \n",
       "lyricist                                                   no_lyricist   \n",
       "language                                                            -1   \n",
       "city                                                                13   \n",
       "bd                                                                  24   \n",
       "gender                                                          female   \n",
       "registered_via                                                       9   \n",
       "expiration_date                                                     11   \n",
       "membership_days                                                   2301   \n",
       "registration_year                                                 2011   \n",
       "registration_month                                                   5   \n",
       "registration_date                                                   25   \n",
       "expiration_year                                                   2017   \n",
       "expiration_month                                                     9   \n",
       "song_year                                                         2010   \n",
       "genre_ids_count                                                      1   \n",
       "lyricists_count                                                      0   \n",
       "composer_count                                                       1   \n",
       "is_featured                                                          0   \n",
       "artist_count                                                         1   \n",
       "artist_composer                                                      0   \n",
       "artist_composer_lyricist                                             0   \n",
       "song_lang_boolean                                                    0   \n",
       "smaller_song                                                         0   \n",
       "count_song_played                                                    1   \n",
       "count_artist_played                                                  1   \n",
       "\n",
       "                                                                     4  \n",
       "msno                      FGtllVqz18RPiwJj/edr2gV78zirAiY/9SmYvia+kCg=  \n",
       "song_id                   3qm6XTZ6MOCU11x8FIVbAGH5l5uMkT3/ZalWG1oo2Gc=  \n",
       "source_system_tab                                              explore  \n",
       "source_screen_name                                             Explore  \n",
       "source_type                                            online-playlist  \n",
       "target                                                               1  \n",
       "song_length                                                     187802  \n",
       "genre_ids                                                         1011  \n",
       "artist_name                                                Brett Young  \n",
       "composer                       Brett Young| Kelly Archer| Justin Ebach  \n",
       "lyricist                                                   no_lyricist  \n",
       "language                                                            52  \n",
       "city                                                                 1  \n",
       "bd                                                                   0  \n",
       "gender                                                             NaN  \n",
       "registered_via                                                       7  \n",
       "expiration_date                                                      5  \n",
       "membership_days                                                   2103  \n",
       "registration_year                                                 2012  \n",
       "registration_month                                                   1  \n",
       "registration_date                                                    2  \n",
       "expiration_year                                                   2017  \n",
       "expiration_month                                                    10  \n",
       "song_year                                                         2016  \n",
       "genre_ids_count                                                      1  \n",
       "lyricists_count                                                      0  \n",
       "composer_count                                                       3  \n",
       "is_featured                                                          0  \n",
       "artist_count                                                         1  \n",
       "artist_composer                                                      0  \n",
       "artist_composer_lyricist                                             0  \n",
       "song_lang_boolean                                                    0  \n",
       "smaller_song                                                         1  \n",
       "count_song_played                                                  412  \n",
       "count_artist_played                                                427  "
      ]
     },
     "execution_count": 45,
     "metadata": {},
     "output_type": "execute_result"
    }
   ],
   "source": [
    "train.head().T"
   ]
  },
  {
   "cell_type": "code",
   "execution_count": 46,
   "metadata": {},
   "outputs": [],
   "source": [
    "train_new=train[['msno', 'song_id', 'target']]"
   ]
  },
  {
   "cell_type": "code",
   "execution_count": 48,
   "metadata": {},
   "outputs": [],
   "source": [
    "test_new=test[['msno', 'song_id']]"
   ]
  },
  {
   "cell_type": "code",
   "execution_count": null,
   "metadata": {},
   "outputs": [],
   "source": []
  }
 ],
 "metadata": {
  "kernelspec": {
   "display_name": "Python 3",
   "language": "python",
   "name": "python3"
  },
  "language_info": {
   "codemirror_mode": {
    "name": "ipython",
    "version": 3
   },
   "file_extension": ".py",
   "mimetype": "text/x-python",
   "name": "python",
   "nbconvert_exporter": "python",
   "pygments_lexer": "ipython3",
   "version": "3.6.4"
  }
 },
 "nbformat": 4,
 "nbformat_minor": 2
}
